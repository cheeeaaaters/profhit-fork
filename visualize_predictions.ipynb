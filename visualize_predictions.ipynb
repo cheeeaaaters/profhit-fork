{
 "cells": [
  {
   "cell_type": "code",
   "execution_count": 51,
   "metadata": {
    "collapsed": true
   },
   "outputs": [],
   "source": [
    "import numpy as np\n",
    "import pandas as pd\n",
    "import torch as th\n",
    "from hierarchy_data import (\n",
    "    CustomHierarchyData,\n",
    "    normalize_data,\n",
    "    unnormalize_data,\n",
    ")\n",
    "from models.fnpmodels import EmbedMetaAttenSeq, RegressionSepFNP, Corem\n",
    "from utils import lag_dataset_2\n",
    "from models.utils import float_tensor, long_tensor\n",
    "from random_split import random_split"
   ]
  },
  {
   "cell_type": "code",
   "execution_count": 52,
   "metadata": {
    "collapsed": false
   },
   "outputs": [
    {
     "name": "stderr",
     "output_type": "stream",
     "text": [
      "/media/harry/WB Passport1/Projects/profhit-fork/hierarchy_data/__init__.py:56: FutureWarning: Indexing a DataFrame with a datetimelike index using a single string to slice the rows, like `frame[string]`, is deprecated and will be removed in a future version. Use `frame.loc[string]` instead.\n",
      "  shapes = [df[str(date)].shape[0] for date in dates]\n"
     ]
    }
   ],
   "source": [
    "data_obj = CustomHierarchyData()\n",
    "\n",
    "# Let's create dataset\n",
    "full_data = data_obj.data\n",
    "train_data_raw = full_data\n",
    "train_means = np.mean(train_data_raw, axis=1)\n",
    "train_std = np.std(train_data_raw, axis=1)\n",
    "train_data = (train_data_raw - train_means[:, None]) / train_std[:, None]\n",
    "num_stocks = train_data.shape[0]\n",
    "\n",
    "dataset_raw = lag_dataset_2(train_data, data_obj.shapes, 1, 50)\n",
    "\n",
    "class SeqDataset(th.utils.data.Dataset):\n",
    "    def __init__(self, dataset):\n",
    "        self.R, self.X, self.Y = dataset\n",
    "\n",
    "    def __len__(self):\n",
    "        return len(self.X)\n",
    "\n",
    "    def __getitem__(self, idx):\n",
    "        return self.R[idx], self.X[idx], self.Y[idx]\n",
    "\n",
    "dataset = SeqDataset(dataset_raw)\n",
    "train_dataset, val_dataset = random_split(dataset, [0.7, 0.3])"
   ]
  },
  {
   "cell_type": "code",
   "execution_count": 53,
   "metadata": {
    "collapsed": false
   },
   "outputs": [],
   "source": [
    "device = th.device('cuda')\n",
    "# Let's create FNP model\n",
    "encoder = EmbedMetaAttenSeq(\n",
    "    dim_seq_in=1,\n",
    "    num_metadata=len(data_obj.idx_dict),\n",
    "    dim_metadata=1,\n",
    "    dim_out=60,\n",
    "    n_layers=2,\n",
    "    bidirectional=True,\n",
    ").to(device)\n",
    "decoder = RegressionSepFNP(\n",
    "    dim_x=60,\n",
    "    dim_y=1,\n",
    "    dim_h=60,\n",
    "    n_layers=3,\n",
    "    dim_u=60,\n",
    "    dim_z=60,\n",
    "    nodes=len(data_obj.idx_dict),\n",
    ").to(device)\n",
    "corem = Corem(nodes=len(data_obj.idx_dict), c=5.0, ).to(device)"
   ]
  },
  {
   "cell_type": "code",
   "execution_count": 54,
   "metadata": {
    "collapsed": false
   },
   "outputs": [
    {
     "data": {
      "text/plain": [
       "<All keys matched successfully>"
      ]
     },
     "execution_count": 54,
     "metadata": {},
     "output_type": "execute_result"
    }
   ],
   "source": [
    "encoder.load_state_dict(th.load('output/custom/encoder_train_32300_0.009501314722001553.pt'))\n",
    "decoder.load_state_dict(th.load('output/custom/decoder_train_32300_0.009501314722001553.pt'))\n",
    "corem.load_state_dict(th.load('output/custom/corem_train_32300_0.009501314722001553.pt'))"
   ]
  },
  {
   "cell_type": "code",
   "execution_count": 55,
   "metadata": {
    "collapsed": false
   },
   "outputs": [
    {
     "name": "stdout",
     "output_type": "stream",
     "text": [
      "(258, 421)\n"
     ]
    }
   ],
   "source": [
    "r, x, y = train_dataset[2]\n",
    "print(r.shape)"
   ]
  },
  {
   "cell_type": "code",
   "execution_count": 56,
   "metadata": {
    "collapsed": false
   },
   "outputs": [],
   "source": [
    "ref_x = float_tensor(r[:, :, None]).to(device)\n",
    "x = float_tensor(x[:, :, None]).to(device)\n",
    "y = float_tensor(y[:, None]).to(device)\n",
    "meta_x = long_tensor(np.arange(ref_x.shape[0]))\n",
    "ref_out_x = encoder(ref_x, meta_x)\n",
    "out_x = encoder(x, meta_x)\n",
    "y_pred, mean_y, logstd_y, _ = decoder.predict(ref_out_x, out_x, sample=False)\n",
    "y_pred, mean_y, logstd_y, _ = corem.predict(mean_y.squeeze(), logstd_y.squeeze(), sample=False)"
   ]
  },
  {
   "cell_type": "code",
   "execution_count": 57,
   "metadata": {
    "collapsed": false
   },
   "outputs": [
    {
     "name": "stdout",
     "output_type": "stream",
     "text": [
      "torch.Size([258, 1])\n",
      "torch.Size([258, 316, 1])\n"
     ]
    }
   ],
   "source": [
    "print(y_pred.shape)\n",
    "print(x.shape)"
   ]
  },
  {
   "cell_type": "code",
   "execution_count": 58,
   "metadata": {
    "collapsed": false
   },
   "outputs": [],
   "source": [
    "gt_dir = (y[:, 0] - x[:, -1, 0]) > 0\n",
    "pred_dir = (y_pred[:, 0] - x[:, -1, 0]) > 0"
   ]
  },
  {
   "cell_type": "code",
   "execution_count": 59,
   "metadata": {},
   "outputs": [
    {
     "name": "stdout",
     "output_type": "stream",
     "text": [
      "tensor(0.4690, device='cuda:0')\n",
      "tensor([ True,  True,  True,  True,  True, False,  True,  True,  True,  True,\n",
      "         True,  True, False,  True,  True, False,  True, False, False, False,\n",
      "         True,  True, False, False,  True, False, False, False, False, False,\n",
      "        False, False, False, False, False, False, False,  True,  True,  True,\n",
      "         True, False, False,  True,  True,  True, False, False,  True, False,\n",
      "        False, False, False, False,  True,  True,  True, False, False, False,\n",
      "         True,  True,  True,  True, False, False,  True,  True, False, False,\n",
      "         True,  True,  True, False,  True,  True,  True, False, False,  True,\n",
      "        False, False,  True,  True, False, False, False,  True, False, False,\n",
      "         True,  True,  True, False,  True,  True,  True, False, False,  True,\n",
      "         True,  True, False, False,  True, False,  True,  True,  True, False,\n",
      "         True, False, False,  True, False,  True,  True, False,  True, False,\n",
      "         True, False,  True,  True,  True,  True, False,  True,  True,  True,\n",
      "        False, False,  True,  True,  True,  True,  True,  True, False,  True,\n",
      "        False, False,  True, False, False, False,  True, False,  True,  True,\n",
      "        False,  True, False, False, False, False,  True,  True, False,  True,\n",
      "         True,  True,  True, False,  True, False,  True,  True,  True,  True,\n",
      "         True,  True, False,  True, False, False, False, False, False,  True,\n",
      "         True,  True, False,  True, False,  True,  True, False, False,  True,\n",
      "        False, False,  True, False, False,  True,  True, False, False, False,\n",
      "        False, False, False, False,  True,  True, False, False, False, False,\n",
      "         True,  True,  True,  True,  True,  True, False, False,  True, False,\n",
      "        False,  True,  True,  True, False,  True,  True,  True, False, False,\n",
      "         True, False,  True,  True, False,  True,  True,  True,  True, False,\n",
      "        False,  True, False,  True,  True, False,  True,  True,  True,  True,\n",
      "        False,  True,  True,  True,  True,  True,  True,  True],\n",
      "       device='cuda:0')\n"
     ]
    }
   ],
   "source": [
    "num_correct_dirs = th.count_nonzero(gt_dir == pred_dir)\n",
    "print(num_correct_dirs / gt_dir.shape[0])\n",
    "print(pred_dir)"
   ]
  }
 ],
 "metadata": {
  "kernelspec": {
   "display_name": "Python 3",
   "language": "python",
   "name": "python3"
  },
  "language_info": {
   "codemirror_mode": {
    "name": "ipython",
    "version": 3
   },
   "file_extension": ".py",
   "mimetype": "text/x-python",
   "name": "python",
   "nbconvert_exporter": "python",
   "pygments_lexer": "ipython3",
   "version": "3.9.7"
  },
  "vscode": {
   "interpreter": {
    "hash": "bd932a0f713f5da914de2a5c38e5a22d45dc1daefa0dca4e13c9031c1d6e212f"
   }
  }
 },
 "nbformat": 4,
 "nbformat_minor": 0
}
